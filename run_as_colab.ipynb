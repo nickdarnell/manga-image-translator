{
  "cells": [
    {
      "cell_type": "markdown",
      "metadata": {
        "id": "Tp4__sN-PMIs"
      },
      "source": [
        "# For users who don't have a GPU!"
      ]
    },
    {
      "cell_type": "code",
      "execution_count": null,
      "metadata": {
        "id": "pohWiy8XPMIv"
      },
      "outputs": [],
      "source": [
        "# Set up the environment.\n",
        "!git clone https://github.com/nickdarnell/manga-image-translator\n",
        "%cd manga-image-translator/\n",
        "!python -m pip install -r requirements.txt"
      ]
    },
    {
      "cell_type": "code",
      "source": [
        "# allow importing keys\n",
        "from google.colab import userdata\n",
        "import os\n",
        "\n",
        "def try_importing_secret_as_env(varname):\n",
        "    try:\n",
        "      os.environ[varname] = userdata.get(varname)\n",
        "    except userdata.userdata.SecretNotFoundError as ex:\n",
        "        pass"
      ],
      "metadata": {
        "id": "leXRFysOPyMB"
      },
      "execution_count": null,
      "outputs": []
    },
    {
      "cell_type": "code",
      "source": [
        "try_importing_secret_as_env(\"OPENAI_API_KEY\")"
      ],
      "metadata": {
        "id": "Y3CUG6VeS54j"
      },
      "execution_count": null,
      "outputs": []
    },
    {
      "cell_type": "code",
      "execution_count": null,
      "metadata": {
        "id": "nwJEkII1PMIx"
      },
      "outputs": [],
      "source": [
        "# Run with colab. GPU must be selected at runtime!\n",
        "from google.colab.output import eval_js\n",
        "url = eval_js(\"google.colab.kernel.proxyPort(5003)\")\n",
        "print('Open the link to use manga-image-translator! -> ', url)\n",
        "!python -m manga_translator --verbose --mode web --use-gpu"
      ]
    }
  ],
  "metadata": {
    "language_info": {
      "name": "python"
    },
    "orig_nbformat": 4,
    "colab": {
      "provenance": [],
      "gpuType": "T4"
    },
    "accelerator": "GPU",
    "kernelspec": {
      "name": "python3",
      "display_name": "Python 3"
    }
  },
  "nbformat": 4,
  "nbformat_minor": 0
}